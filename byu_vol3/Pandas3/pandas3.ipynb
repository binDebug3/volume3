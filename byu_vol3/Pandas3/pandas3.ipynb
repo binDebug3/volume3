{
 "cells": [
  {
   "cell_type": "markdown",
   "metadata": {
    "colab_type": "text",
    "id": "bW431NWpWQvg"
   },
   "source": [
    "# Pandas 3\n",
    "### Name\n",
    "### Class\n",
    "### Date"
   ]
  },
  {
   "cell_type": "code",
   "execution_count": 1,
   "metadata": {
    "colab": {},
    "colab_type": "code",
    "id": "SUIQR8wua0n-"
   },
   "outputs": [],
   "source": [
    "import pandas as pd\n",
    "import numpy as np\n",
    "import matplotlib.pyplot as plt"
   ]
  },
  {
   "cell_type": "markdown",
   "metadata": {
    "colab_type": "text",
    "id": "WtvM7fKitmn0"
   },
   "source": [
    "# Problem 1"
   ]
  },
  {
   "cell_type": "code",
   "execution_count": 6,
   "metadata": {
    "colab": {},
    "colab_type": "code",
    "id": "UnY5vviOBe8s"
   },
   "outputs": [
    {
     "data": {
      "text/plain": [
       "(array([23.1, 18.3, 18.9, 19.6, 16.7, 19.6, 18. , 21.1, 19.8, 21.2, 14.7,\n",
       "        16.7, 19.7, 18.1, 21.2, 18. , 18.1, 17.2, 12.1, 19.2, 17.1, 16.5,\n",
       "        13.2, 14. , 16.9, 16.2, 19.3, 18.1, 15.1, 13.9, 23.1, 19.1, 19.1,\n",
       "        19.3, 19.3, 19. , 20.6, 21. , 16.6, 21.3, 19.2, 17.9, 14.9, 14.4,\n",
       "        18.5, 16.1, 18.4, 17. , 12.6, 16.1, 18.4, 15.9, 20. , 12.6, 19. ,\n",
       "        17.6, 15.7, 28.8, 17.6, 14. , 17. , 16.8, 15.9, 15.8, 20.3, 16.4,\n",
       "        17.6, 21.5, 18.1, 20.2, 13.5, 13.7, 14.2, 16.7, 17.5, 17. , 15.7,\n",
       "        21.7, 17.3, 21.7, 19.7, 20.4, 15.3, 15. , 18.1, 20.1, 19.4, 18.2,\n",
       "        19.6, 17.8, 22.1, 19.5, 18.6, 17.4, 18.9, 17.9, 19.5, 18.8, 15. ,\n",
       "        17.1, 19.6, 16.5, 19.9, 16.5, 11.6, 19.5, 17.4, 18. , 13.6, 10.5,\n",
       "        19. , 22. , 18.7, 17.8, 16.3, 19.1, 15.3, 17.9, 15.1, 14.9, 23.1,\n",
       "        17.4, 18.2, 17.1, 14.4, 19.2,  6.7, 14.8, 15.8, 16.1, 22.2, 10.8,\n",
       "        16. , 13.4, 14.7, 11.8, 17.4, 10. , 13.7, 11.1, 15.9, 15.1, 15.2,\n",
       "        18.4, 18.1, 16.7, 15. , 11.5, 19. , 14.6, 12.2, 20.3, 12.7, 14.4,\n",
       "        13.4, 18.9, 15.1, 17.5, 13. ,  8.9, 16.8, 15.5, 19.1, 15.9, 17.8,\n",
       "        22.6, 21.5, 16.3, 11.5, 19.7,  7.8, 16.6, 23.6, 14.8, 16.9, 17. ,\n",
       "        19.4, 22. , 18.7, 16.5, 21. , 19.7, 25.3, 12.8,  9.9,  9.5,  9. ,\n",
       "        23.4, 21. , 15.2, 23.1, 22.2, 11.5, 15.9, 15.1, 14.9,  8.7, 16. ,\n",
       "        13.8, 16.9, 20.3, 15.3, 16.3, 14.6, 24.7, 19.4, 22.7, 15.7, 14.9,\n",
       "        20.2, 12.8, 21. ]),\n",
       " array([23, 16, 22, 60, 16, 38, 17, 37, 30, 21, 37, 44, 38, 44, 23,  9, 83,\n",
       "        19, 14, 25, 20, 46, 23, 12, 36, 21, 42, 16, 21, 30, 15, 50, 53, 18,\n",
       "        34, 23, 39, 17, 28, 26, 14, 25, 20, 37, 16, 19, 11, 12, 67, 25, 15,\n",
       "        20, 45, 76,  5, 30, 48, 12, 10, 16, 22, 48, 87, 71, 49, 32, 40,  8,\n",
       "        17, 23, 29, 20, 25, 16, 34, 10, 75, 60, 19, 27, 20, 71, 13, 24,  9,\n",
       "        25, 25, 12, 35,  1, 31,  8, 55, 23, 28, 25, 33, 16, 21, 71, 30, 14,\n",
       "        35, 29, 15, 58, 46, 29, 14, 23, 11, 35, 29, 23, 34, 23, 16, 12, 29,\n",
       "        70, 29, 56, 10, 21, 78, 13, 16, 30, 22, 42, 35, 33, 30, 24, 26, 18,\n",
       "        10, 12, 87, 77, 10, 32, 50, 31, 41, 20,  4, 25,  9, 34, 56, 33, 90,\n",
       "        35, 10, 16, 19, 17, 33, 36, 27, 23, 11, 14, 30, 76, 47, 36, 30, 12,\n",
       "        18, 39, 20, 16, 30, 22, 29,  3, 20, 51, 56, 24, 18, 19, 27, 38, 30,\n",
       "        71, 12, 42, 10, 31, 25, 26, 40, 18, 14,  7, 10, 20, 56, 57, 18, 36,\n",
       "        30, 40, 34, 20, 25, 33, 16, 35, 22, 90, 95, 22, 52, 35, 37, 25, 25,\n",
       "        26, 36, 37, 30, 26, 20,  3, 10, 22, 28, 42, 55, 16, 16, 20, 13, 23,\n",
       "        14, 24, 27, 75, 10, 36, 16, 20, 44, 10, 20, 34, 48, 10, 20, 36, 15,\n",
       "        31, 24, 15, 50, 21, 28, 40, 25, 12, 29, 35, 12, 21,  6, 48, 22, 20,\n",
       "        33, 25, 42, 24, 25, 38, 16,  3, 56, 12, 21, 23, 20, 21, 15, 27, 12,\n",
       "        36, 14, 26,  9, 21, 10, 26, 26, 13, 96, 16, 25, 11, 37, 15, 25, 18,\n",
       "        30, 15, 26, 29, 32, 36, 36,  5, 28, 14, 10, 23, 41, 16,  2, 47, 17,\n",
       "        12, 20, 16, 15, 14, 37, 26, 18, 30, 24, 23, 36, 70, 14, 65,  7, 30,\n",
       "        19, 16, 29, 22, 85,  8, 15, 50, 52, 56, 35, 36, 35, 22, 26, 31, 22,\n",
       "        37, 31, 20, 41, 86, 11, 19, 19, 20, 28, 37, 20,  7, 58, 34, 90, 20,\n",
       "        32, 22, 17, 21, 35, 47, 18, 53, 58, 16, 28,  6, 27, 22, 11, 10, 31,\n",
       "        28, 19, 12, 15, 13, 21, 18, 24, 12, 39, 20, 44, 26, 14, 23, 16, 38,\n",
       "        23, 19, 15, 23, 28, 34, 40, 57, 20, 19, 60, 42, 28, 16, 24, 23, 24,\n",
       "        10, 23, 27, 13, 25, 51, 18, 41, 12, 11, 28, 44, 10, 47, 15, 13, 31,\n",
       "        19, 31,  5, 36, 33, 30,  8, 10, 17, 37, 51, 25, 27, 36, 28, 19, 30,\n",
       "        41,  7, 33, 27, 19, 15,  5, 57, 14, 46, 19, 16, 62, 47, 12, 20,  9,\n",
       "        49, 22, 68, 44, 26, 22, 29, 24, 11, 35, 11, 26, 16, 42, 17, 19, 79,\n",
       "        85, 27, 51, 46, 56, 40, 23, 29, 45, 26, 45,  5, 36, 46, 41, 10, 44,\n",
       "        21, 49, 71, 53, 30, 19, 20, 17, 10, 41, 10, 75, 27, 25, 34, 42, 68,\n",
       "        31, 62, 12,  5, 17, 80, 40,  6, 10, 60, 28, 31,  7, 20, 29, 21, 56,\n",
       "        21, 15, 45, 35, 43, 24, 15, 49, 32, 17, 81, 16, 10, 17, 42, 51, 49,\n",
       "        24, 34, 95, 28], dtype=int64),\n",
       " array([ 52,  29,  50,  89,  44,  62,  45,  68,  63,  44,  75,  77,  64,\n",
       "         73,  46,  22,  96,  40,  23,  44,  51,  74,  59,  30,  69,  58,\n",
       "         74,  40,  47,  61,  36,  85,  95,  45,  66,  56,  63,  36,  67,\n",
       "         54,  24,  53,  60,  68,  41,  42,  28,  30,  88,  55,  30,  50,\n",
       "         80, 100,  36,  58,  77,  41,  26,  44,  53,  82,  95,  95,  85,\n",
       "         70,  68,  28,  42,  52,  56,  54,  55,  34,  66,  52,  93,  89,\n",
       "         55,  62,  43,  93,  34,  49,  35,  58,  55,  46,  55,  20,  65,\n",
       "         29,  82,  48,  56,  64,  71,  42,  47,  93,  61,  45,  68,  60,\n",
       "         47,  84,  75,  58,  41,  46,  42,  61,  62,  51,  53,  57,  42,\n",
       "         21,  60,  95,  65,  87,  28,  67,  96,  29,  34,  75,  56,  93,\n",
       "         70,  68,  60,  55,  47,  47,  36,  30,  99,  96,  26,  60,  80,\n",
       "         68,  88,  47,  19,  50,  33,  65,  84,  66,  98,  63,  36,  42,\n",
       "         48,  40,  65,  70,  50,  46,  39,  40,  60,  97,  74,  56,  66,\n",
       "         36,  52,  74,  44,  49,  55,  49,  72,  14,  54,  87,  82,  57,\n",
       "         36,  39,  52,  71,  55,  93,  52,  78,  27,  67,  54,  51,  64,\n",
       "         46,  41,  20,  31,  46,  91,  88,  44,  72,  56,  82,  73,  40,\n",
       "         63,  65,  40,  75,  49, 100, 100,  52,  87,  66,  66,  53,  63,\n",
       "         58,  64,  69,  70,  47,  46,   9,  30,  47,  63,  77,  86,  44,\n",
       "         49,  48,  33,  52,  41,  53,  57,  94,  30,  55,  40,  49,  75,\n",
       "         43,  45,  65,  77,  41,  56,  59,  35,  70,  47,  35,  77,  76,\n",
       "         56,  84,  46,  33,  54,  64,  31,  55,  33,  72,  47,  39,  61,\n",
       "         54,  64,  80,  55,  72,  37,  21,  86,  29,  46,  63,  63,  54,\n",
       "         41,  60,  31,  71,  60,  52,  34,  30,  30,  52,  51,  51,  99,\n",
       "         43,  50,  32,  70,  40,  58,  36,  64,  36,  52,  62,  61,  69,\n",
       "         57,  35,  57,  34,  24,  58,  66,  36,  13,  79,  37,  32,  49,\n",
       "         33,  36,  48,  90,  61,  36,  61,  46,  48,  68,  86,  36,  99,\n",
       "         24,  64,  39,  42,  52,  56,  98,  29,  37,  89,  81,  87,  62,\n",
       "         65,  59,  44,  57,  73,  46,  70,  68,  48,  71,  96,  25,  42,\n",
       "         50,  40,  48,  73,  43,  38,  89,  63,  98,  55,  62,  66,  45,\n",
       "         46,  66,  80,  38,  82,  82,  31,  52,  28,  54,  50,  31,  20,\n",
       "         55,  53,  51,  48,  40,  36,  45,  45,  42,  33,  71,  52,  67,\n",
       "         60,  35,  50,  64,  73,  38,  35,  65,  52,  69,  76,  73,  82,\n",
       "         65,  51,  83,  82,  72,  36,  56,  70,  68,  31,  53,  57,  35,\n",
       "         62,  88,  38,  69,  32,  27,  66,  77,  45,  83,  32,  45,  51,\n",
       "         51,  56,  25,  80,  60,  56,  17,  27,  34,  69,  93,  69,  59,\n",
       "         68,  67,  41,  60,  80,  29,  64,  57,  44,  31,  21,  81,  40,\n",
       "         84,  49,  41,  93,  75,  34,  59,  45,  84,  43,  94,  74,  51,\n",
       "         57,  60,  50,  39,  67,  26,  51,  38,  69,  54,  54,  96, 100,\n",
       "         58,  83,  72,  75,  70,  48,  60,  71,  53,  77,  22,  66,  83,\n",
       "         68,  35,  77,  47,  81,  92,  87,  68,  59,  49,  43,  30,  76,\n",
       "         44,  88,  92,  49,  66,  64,  93,  60,  93,  30,  27,  44,  96,\n",
       "         85,  25,  25,  86,  55,  50,  21,  43,  58,  60,  84,  55,  49,\n",
       "         77,  63,  70,  64,  36,  80,  67,  39,  96,  50,  34,  41,  68,\n",
       "         83,  86,  47,  61,  99,  63], dtype=int64))"
      ]
     },
     "execution_count": 6,
     "metadata": {},
     "output_type": "execute_result"
    }
   ],
   "source": [
    "def prob1():\n",
    "    \"\"\"\n",
    "    Use groupby objects to determine information about private\n",
    "    and public universities.\n",
    "    Specifically examine the columns 'S.F.Ratio', 'Top10perc',\n",
    "    and 'Top25perc'.\n",
    "    For each column return the values of the describe function\n",
    "    for the type of university with the higher mean.\n",
    "    \n",
    "    Return:\n",
    "        ans_1 (ndarray): describe array of universities with \n",
    "                         higher S.F.Ratio\n",
    "        ans_2 (ndarray): describe array of universities with\n",
    "                         more students from Top10perc\n",
    "        ans_3 (ndarray): describe array of universities with\n",
    "                         more students from Top25perc\n",
    "    \"\"\"\n",
    "    # load data\n",
    "    college = pd.read_csv(\"college.csv\")\n",
    "\n",
    "    # get public and private groups\n",
    "    public = college.groupby(\"Private\").get_group(\"No\")\n",
    "    private = college.groupby(\"Private\").get_group(\"Yes\")\n",
    "\n",
    "    # get student to faculty ratio data\n",
    "    ratio = [public[\"S.F.Ratio\"], private[\"S.F.Ratio\"]]\n",
    "    ind_ratio = np.argmax([ratio[0].mean(), ratio[1].mean()])\n",
    "\n",
    "    # get top ten percent data\n",
    "    top_ten = [public[\"Top10perc\"], private[\"Top10perc\"]]\n",
    "    ind_ten = np.argmax([top_ten[0].mean(), top_ten[1].mean()])\n",
    "\n",
    "    # get top twenty five percent data\n",
    "    top_twenty = [public[\"Top25perc\"], private[\"Top25perc\"]]\n",
    "    ind_twen = np.argmax([top_twenty[0].mean(), top_twenty[1].mean()])\n",
    "\n",
    "    return ratio[ind_ratio].values, top_ten[ind_ten].values, top_twenty[ind_twen].values\n",
    "\n",
    "\n",
    "prob1()"
   ]
  },
  {
   "cell_type": "markdown",
   "metadata": {
    "colab_type": "text",
    "id": "kkl-OwD3tosX"
   },
   "source": [
    "# Problem 2"
   ]
  },
  {
   "cell_type": "code",
   "execution_count": 13,
   "metadata": {
    "colab": {},
    "colab_type": "code",
    "id": "21bBA9dzCNxc"
   },
   "outputs": [
    {
     "data": {
      "image/png": "[encoded data removed]",
      "text/plain": [
       "<Figure size 432x288 with 1 Axes>"
      ]
     },
     "metadata": {},
     "output_type": "display_data"
    },
    {
     "data": {
      "image/png": "[encoded data removed]",
      "text/plain": [
       "<Figure size 432x288 with 1 Axes>"
      ]
     },
     "metadata": {},
     "output_type": "display_data"
    }
   ],
   "source": [
    "def prob2():\n",
    "    \"\"\"\n",
    "    Use groupby visualizations to compare the following\n",
    "    in private and public universities:\n",
    "        1. Number of applicants, accept applicants, and\n",
    "           enrolled applicants\n",
    "        2. Range of price for room and board\n",
    "    \"\"\"\n",
    "    # load data\n",
    "    college = pd.read_csv(\"college.csv\")\n",
    "\n",
    "    # get public and private groups\n",
    "    public = college.groupby(\"Private\").get_group(\"No\")\n",
    "    private = college.groupby(\"Private\").get_group(\"Yes\")\n",
    "\n",
    "    college[[\"Apps\", \"Accept\", \"Enroll\"]].mean().plot(kind=\"barh\", xerr=college.std(), title=\"College Admissions\")\n",
    "    plt.xlabel(\"Number of Students\")\n",
    "\n",
    "    college.boxplot([\"Room.Board\"], by=\"Private\", grid=False)\n",
    "    plt.title(\"College Prices\")\n",
    "    plt.ylabel(\"Number of Students\")\n",
    "\n",
    "prob2()"
   ]
  },
  {
   "cell_type": "markdown",
   "metadata": {
    "colab_type": "text",
    "id": "XQJj5O7btqQW"
   },
   "source": [
    "# Problem 3"
   ]
  },
  {
   "cell_type": "code",
   "execution_count": 24,
   "metadata": {
    "colab": {},
    "colab_type": "code",
    "id": "Qs3BS0NKRgo1"
   },
   "outputs": [
    {
     "data": {
      "text/plain": [
       "((1, 1), (3, 2), (3, 1))"
      ]
     },
     "execution_count": 24,
     "metadata": {},
     "output_type": "execute_result"
    }
   ],
   "source": [
    "def prob3():\n",
    "    \"\"\"\n",
    "    Use Ohio_1999.csv and pivot tables to answer the\n",
    "    following questions\n",
    "        1. Which race/sex combination makes the most money in total?\n",
    "        2. Which race/sex combination worked the least amount of \n",
    "            cumulative hours?\n",
    "        3. What race/sex combination worked the most hours per week per person?\n",
    "    \n",
    "    Returns:\n",
    "        ans_1 (tuple): tuple with race and sex code, respectively\n",
    "        ans_2 (tuple): tuple with race and sex code, respectively\n",
    "        ans_3 (tuple): tuple with race and sex code, respectively\n",
    "    \"\"\"\n",
    "    # read data\n",
    "    ohio = pd.read_csv(\"Ohio_1999.csv\")\n",
    "\n",
    "    # makes the most money in total\n",
    "    question1 = ohio.pivot_table(values=\"Usual Weekly Earnings\", index=\"Race\", columns=\"Sex\", aggfunc=\"max\")\n",
    "\n",
    "    # worked the least amount\n",
    "    question2 = ohio.pivot_table(values=\"Usual Hours Worked\", index=\"Race\", columns=\"Sex\", aggfunc=\"sum\")\n",
    "\n",
    "    # highest average hours\n",
    "    question3 = ohio.pivot_table(values=\"Usual Hours Worked\", index=\"Race\", columns=\"Sex\", aggfunc=\"mean\")\n",
    "\n",
    "    # return a tuple of tuples of indexes for the questions asked\n",
    "    return question1.stack().idxmax(), question2.stack().idxmin(), question3.stack().idxmax(), \n",
    "\n",
    "\n",
    "prob3()"
   ]
  },
  {
   "cell_type": "markdown",
   "metadata": {
    "colab_type": "text",
    "id": "w0OmwW_VtsAp"
   },
   "source": [
    "# Problem 4"
   ]
  },
  {
   "cell_type": "code",
   "execution_count": 42,
   "metadata": {
    "colab": {},
    "colab_type": "code",
    "id": "in76s4x5iAX9"
   },
   "outputs": [
    {
     "data": {
      "text/plain": [
       "(Interval(38, 42, closed='right'),\n",
       " Interval(40.0, 46.0, closed='right'),\n",
       " (Interval(15.999, 29.0, closed='right'), Interval(38, 42, closed='right')))"
      ]
     },
     "execution_count": 42,
     "metadata": {},
     "output_type": "execute_result"
    }
   ],
   "source": [
    "def prob4():\n",
    "    \"\"\"\n",
    "    Use Ohio_1999.csv to answer the following questions:\n",
    "        1. What is the most common degree among workers?\n",
    "        2. Which age group works the most hours on average?\n",
    "        3. What age/degree combination has the smallest yearly\n",
    "           salary on average?\n",
    "    \n",
    "    Return:\n",
    "        ans_1 (Interval): degree interval\n",
    "        ans_2 (Interval): age interval\n",
    "        ans_3 (Interval, Interval): age interval and degree interval\n",
    "    \"\"\"\n",
    "    # load data\n",
    "    ohio = pd.read_csv(\"Ohio_1999.csv\")\n",
    "\n",
    "    # find most common education\n",
    "    find_degree = pd.cut(ohio[\"Educational Attainment\"],  [0, 38, 42, 47])\n",
    "    part1 = find_degree.value_counts().idxmax()\n",
    "\n",
    "    # find the hardest working age\n",
    "    find_age = pd.qcut(ohio[\"Age\"],  6)\n",
    "    part2 = ohio.pivot_table(values=\"Usual Hours Worked\", index=find_age, aggfunc=\"mean\", fill_value='-')\n",
    "    part2 = part2.stack().idxmax()[0]\n",
    "    \n",
    "    find_low = ohio.pivot_table(values=\"Yearly Salary\", index=find_age, columns=find_degree, aggfunc='mean')\n",
    "    part3 = find_low.stack().idxmin()\n",
    "    \n",
    "    return part1, part2, part3\n",
    "\n",
    "\n",
    "prob4()"
   ]
  },
  {
   "cell_type": "markdown",
   "metadata": {
    "colab_type": "text",
    "id": "p_583lcgtuQv"
   },
   "source": [
    "# Problem 5"
   ]
  },
  {
   "cell_type": "code",
   "execution_count": 47,
   "metadata": {
    "colab": {},
    "colab_type": "code",
    "id": "I8vUMUB4fjHR"
   },
   "outputs": [
    {
     "name": "stdout",
     "output_type": "stream",
     "text": [
      "                       Expend  perc.alumni\n",
      "Private                                   \n",
      "No      Expend       1.000000     0.123694\n",
      "        perc.alumni  0.123694     1.000000\n",
      "Yes     Expend       1.000000     0.378988\n",
      "        perc.alumni  0.378988     1.000000\n",
      "                         Acceptance.Rate  Top10perc\n",
      "Private                                            \n",
      "No      Acceptance.Rate         1.000000  -0.325991\n",
      "        Top10perc              -0.325991   1.000000\n",
      "Yes     Acceptance.Rate         1.000000  -0.561116\n",
      "        Top10perc              -0.561116   1.000000\n",
      "Acceptance.Rate  (0.153, 0.676]  (0.676, 0.779]  (0.779, 0.849]  (0.849, 1.0]\n",
      "Private                                                                      \n",
      "No                           45              72              39            56\n",
      "Yes                         149             123             155           138\n"
     ]
    },
    {
     "data": {
      "text/plain": [
       "(False,\n",
       " False,\n",
       " True,\n",
       " 'Private colleges have more students from the top 10% of their high school class, so even though they have low acceptance rates they can select more of these students.')"
      ]
     },
     "execution_count": 47,
     "metadata": {},
     "output_type": "execute_result"
    }
   ],
   "source": [
    "def prob5():\n",
    "   # load data\n",
    "   college = pd.read_csv(\"college.csv\")\n",
    "\n",
    "   # part one\n",
    "   type_group = college.groupby(\"Private\")\n",
    "   public = type_group.get_group(\"No\")\n",
    "   private = type_group.get_group(\"Yes\")\n",
    "\n",
    "   correlation = type_group[[\"Expend\", \"perc.alumni\"]].corr()\n",
    "   print(correlation)\n",
    "\n",
    "   # part two\n",
    "   grad_pub = pd.qcut(public[\"Grad.Rate\"], 5)\n",
    "   grad_pri = pd.qcut(private[\"Grad.Rate\"], 5)\n",
    "   graduation = grad_pri.value_counts().idxmax() == grad_pub.value_counts().idxmax()\n",
    "\n",
    "   # part three\n",
    "   college[\"Acceptance.Rate\"] = college[\"Accept\"] / college[\"Apps\"]\n",
    "   correlation = type_group[[\"Acceptance.Rate\", \"Top10perc\"]].corr()\n",
    "   print(correlation)\n",
    "\n",
    "   # part four\n",
    "   acceptance = pd.qcut(college[\"Acceptance.Rate\"], 4)\n",
    "   print(college.pivot_table(values=\"Top10perc\", index=\"Private\", columns=acceptance, aggfunc=\"count\"))\n",
    "   explanation = \"Private colleges have more students from the top 10% of their high school class, so even though they have low acceptance rates they can select more of these students.\"\n",
    "\n",
    "   return False, graduation, True, explanation\n",
    "\n",
    "prob5()"
   ]
  }
 ],
 "metadata": {
  "colab": {
   "collapsed_sections": [],
   "name": "pandas3.ipynb",
   "provenance": [],
   "version": "0.3.2"
  },
  "kernelspec": {
   "display_name": "Python 3",
   "language": "python",
   "name": "python3"
  },
  "language_info": {
   "codemirror_mode": {
    "name": "ipython",
    "version": 3
   },
   "file_extension": ".py",
   "mimetype": "text/x-python",
   "name": "python",
   "nbconvert_exporter": "python",
   "pygments_lexer": "ipython3",
   "version": "3.7.9"
  }
 },
 "nbformat": 4,
 "nbformat_minor": 1
}
