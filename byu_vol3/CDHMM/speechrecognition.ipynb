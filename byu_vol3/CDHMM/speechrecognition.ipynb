{
 "cells": [
  {
   "cell_type": "code",
   "execution_count": 1,
   "metadata": {},
   "outputs": [],
   "source": [
    "from scipy.special import logsumexp"
   ]
  },
  {
   "cell_type": "code",
   "execution_count": 1,
   "metadata": {},
   "outputs": [],
   "source": [
    "import scipy as sp\n",
    "import scipy.io.wavfile as wavfile\n",
    "import os\n",
    "from hmmlearn import hmm\n",
    "import MFCC\n",
    "import numpy as np\n",
    "import re\n",
    "import random\n",
    "import pickle\n",
    "from matplotlib import pyplot as plt\n",
    "from sklearn.decomposition import PCA"
   ]
  },
  {
   "cell_type": "markdown",
   "metadata": {},
   "source": [
    "## Problem 1\n",
    "\n",
    "Write a function which accepts a GMMHMM as well as\n",
    "an integer n_sim, and which simulates the GMMHMM process, generating n_sim different\n",
    "observations. Use the example GMMHMM to sample 900 times. Use PCA from SkLearn to plot your generated observations in 2D space. Color observations by state."
   ]
  },
  {
   "cell_type": "code",
   "execution_count": 1,
   "metadata": {},
   "outputs": [],
   "source": [
    "def sample_gmmhmm(gmmhmm, n_sim):\n",
    "    \"\"\"\n",
    "    Simulate from a GMMHMM.\n",
    "    \n",
    "    Returns\n",
    "    -------\n",
    "    states : ndarray of shape (n_sim,)\n",
    "        The sequence of states\n",
    "    obs : ndarray of shape (n_sim, M)\n",
    "        The generated observations (vectors of length M)\n",
    "    \"\"\""
   ]
  },
  {
   "cell_type": "markdown",
   "metadata": {},
   "source": [
    "## Problem 2\n",
    "\n",
    "Samples.zip contains 30 recordings for each of the words/phrases mathematics, biology, political science, psychology, and statistics. These audio samples are 2 seconds in\n",
    "duration, recorded at a rate of 44100 samples per second, with samples stored as 16-bit signed\n",
    "integers in WAV format. \n",
    "Load the recordings into Python using scipy.io.wavfile.read\n",
    "\n",
    "Extract the MFCCs from each sample using code from the file MFCC.py.\n",
    "Store the MFCCs for each word in a separate list. You should have five lists, each containing\n",
    "30 MFCC arrays, corresponding to each of the five words under consideration."
   ]
  },
  {
   "cell_type": "code",
   "execution_count": null,
   "metadata": {},
   "outputs": [],
   "source": []
  },
  {
   "cell_type": "markdown",
   "metadata": {},
   "source": [
    "## Problem 3\n",
    "\n",
    "Partition each list of MFCCs into a training set of 20 samples, and a test set of\n",
    "the remaining 10 samples.\n",
    "Using the training sets, train a GMMHMM on each of the words from the previous problem\n",
    "with at least 10 random restarts, keeping the best model for each word (the one with the highest\n",
    "log-likelihood). This process may take several minutes. Since you will not want to run this\n",
    "more than once, you will want to save the best model for each word to disk using the pickle\n",
    "module so that you can use it later."
   ]
  },
  {
   "cell_type": "code",
   "execution_count": 87,
   "metadata": {},
   "outputs": [],
   "source": [
    "def initialize(n_states):\n",
    "    transmat = np.ones((n_states,n_states))/float(n_states)\n",
    "    for i in range(n_states):\n",
    "        transmat[i,:] += sp.random.uniform(-1./n_states,1./n_states,n_states)\n",
    "        transmat[i,:] /= sum(transmat[i,:])\n",
    "    startprob = np.ones(n_states)/float(n_states) + sp.random.uniform(-1./n_states,1./n_states,n_states)\n",
    "    startprob /= sum(startprob)\n",
    "    return startprob, transmat"
   ]
  },
  {
   "cell_type": "code",
   "execution_count": 100,
   "metadata": {},
   "outputs": [],
   "source": []
  },
  {
   "cell_type": "markdown",
   "metadata": {},
   "source": [
    "## Problem 4\n",
    "\n",
    "Classify the 10 test samples for each word. Make a dictionary containing the accuracy\n",
    "of the classification of your five testing sets where the words/phrases are the keys,\n",
    "and the values are the percent accuracy.\n",
    "\n",
    "Write a few sentences answering the following questions:\n",
    "How does your system perform?\n",
    "Which words are the hardest to correctly classify?"
   ]
  },
  {
   "cell_type": "code",
   "execution_count": null,
   "metadata": {},
   "outputs": [],
   "source": []
  }
 ],
 "metadata": {
  "kernelspec": {
   "display_name": "Python 3",
   "language": "python",
   "name": "python3"
  },
  "language_info": {
   "codemirror_mode": {
    "name": "ipython",
    "version": 3
   },
   "file_extension": ".py",
   "mimetype": "text/x-python",
   "name": "python",
   "nbconvert_exporter": "python",
   "pygments_lexer": "ipython3",
   "version": "3.7.9"
  }
 },
 "nbformat": 4,
 "nbformat_minor": 4
}
